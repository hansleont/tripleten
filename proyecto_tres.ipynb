{
 "cells": [
  {
   "cell_type": "markdown",
   "metadata": {},
   "source": [
    "<b>Hola Hans</b>\n",
    "\n",
    "Mi nombre es Alejandro Abia y tengo el gusto de revisar tu proyecto.\n",
    "\n",
    "A continuación, encontrarás mis comentarios en celdas pintadas de tres colores (verde, amarillo y rojo), a manera de semáforo. Por favor, <b>no las borres ni muevas de posición</b> mientras dure el proceso de revisión.\n",
    "\n",
    "<div class=\"alert alert-block alert-success\">\n",
    "<b>Éxito</b> <a class=\"tocSkip\"></a>\n",
    "En celdas verdes encontrarás comentarios en relación a tus aciertos y fortalezas.\n",
    "</div>\n",
    "<div class=\"alert alert-block alert-warning\">\n",
    "<b>Antención</b> <a class=\"tocSkip\"></a>\n",
    "Utilizaré el color amarillo para llamar tu atención, expresar algo importante o compartirte alguna idea de valor.\n",
    "</div>\n",
    "<div class=\"alert alert-block alert-danger\">\n",
    "<b>A resolver</b> <a class=\"tocSkip\"></a>\n",
    "En rojo emitiré aquellos puntos que deberás atender para aprobar la revisión.\n",
    "</div>\n",
    "<div class=\"alert alert-block alert-info\">\n",
    "<b>Comentario estudiante</b><a class=\"tocSkip\"></a>\n",
    "Es factible que, a lo largo del proceso de revisión, quieras dejarme comentarios. Si es el caso, por favor realízalo dentro de celdas azules como esta.\n",
    "</div>\n",
    "Respecto del proceso de revisión, tu proyecto será aceptado una vez que los comentarios en rojo hayan sido atendidos.\n",
    "¡Empecemos!"
   ]
  },
  {
   "cell_type": "markdown",
   "metadata": {
    "id": "E0vqbgi9ay0H"
   },
   "source": [
    "# Déjame escuchar música"
   ]
  },
  {
   "cell_type": "markdown",
   "metadata": {
    "id": "fhq_eyov_Zcs"
   },
   "source": [
    "# Contenido <a id='back'></a>\n",
    "\n",
    "* [Introducción](#intro)\n",
    "* [Etapa 1. Descripción de los datos](#data_review)\n",
    "    * [Conclusiones](#data_review_conclusions)\n",
    "* [Etapa 2. Preprocesamiento de datos](#data_preprocessing)\n",
    "    * [2.1 Estilo del encabezado](#header_style)\n",
    "    * [2.2 Valores ausentes](#missing_values)\n",
    "    * [2.3 Duplicados](#duplicates)\n",
    "    * [2.4 Conclusiones](#data_preprocessing_conclusions)\n",
    "* [Etapa 3. Prueba de hipótesis](#hypothesis)\n",
    "    * [3.1 Hipótesis 1: actividad de los usuarios y las usuarias en las dos ciudades](#activity)\n",
    "* [Conclusiones](#end)"
   ]
  },
  {
   "cell_type": "markdown",
   "metadata": {
    "id": "VUC88oWjTJw2"
   },
   "source": [
    "## Introducción <a id='intro'></a>\n",
    "Como analista de datos, tu trabajo consiste en analizar datos para extraer información valiosa de ellos y tomar decisiones en consecuencia. Esto implica pasar por diferentes etapas, como la descripción general de los datos, el preprocesamiento y la prueba de hipótesis.\n",
    "\n",
    "Siempre que investiguemos, necesitamos formular hipótesis que después podamos probar. A veces, aceptaremos estas hipótesis; otras veces, las rechazaremos. Para tomar las decisiones adecuadas, una empresa debe ser capaz de entender si está haciendo las suposiciones correctas.\n",
    "\n",
    "En este proyecto, compararás las preferencias musicales de las ciudades de Springfield y Shelbyville. Estudiarás datos reales de música online para probar la hipótesis que planteamos a continuación y compararás el comportamiento de los usuarios de estas dos ciudades.\n",
    "\n",
    "### Objetivo:\n",
    "Probar la hipótesis:\n",
    "1. La actividad de los usuarios difiere según el día de la semana y dependiendo de la ciudad.\n",
    "\n",
    "\n",
    "### Etapas\n",
    "Los datos del comportamiento de los usuarios se almacenan en el archivo `/datasets/music_project_en.csv`. No hay información sobre la calidad de los datos, así que necesitarás examinarlos antes de probar la hipótesis.\n",
    "\n",
    "Primero, debes evaluar la calidad de los datos y ver si los problemas son significativos. Más tarde, durante el preprocesamiento de datos, deberás abordar los problemas más críticos.\n",
    "\n",
    "Tu proyecto contará con estas tres etapas:\n",
    " 1. Descripción de los datos.\n",
    " 2. Preprocesamiento de los datos.\n",
    " 3. Prueba de la hipótesis.\n",
    "\n",
    "\n",
    "\n",
    "\n",
    "\n",
    "\n"
   ]
  },
  {
   "cell_type": "markdown",
   "metadata": {
    "id": "hDt6pg-Rw-1U"
   },
   "source": [
    "[Volver a Contenidos](#back)"
   ]
  },
  {
   "cell_type": "markdown",
   "metadata": {
    "id": "Ml1hmfXC_Zcs"
   },
   "source": [
    "## Etapa 1. Descripción de los datos <a id='data_review'></a>\n",
    "\n",
    "Abre los datos y examínalos."
   ]
  },
  {
   "cell_type": "markdown",
   "metadata": {
    "id": "57eAOGIz_Zcs"
   },
   "source": [
    "Etapa 1.1. Necesitarás `pandas`, así que impórtalo."
   ]
  },
  {
   "cell_type": "code",
   "execution_count": 2,
   "metadata": {
    "id": "AXN7PHPN_Zcs",
    "trusted": true
   },
   "outputs": [],
   "source": [
    "\n",
    "import pandas as pd"
   ]
  },
  {
   "cell_type": "markdown",
   "metadata": {
    "id": "SG23P8tt_Zcs"
   },
   "source": [
    "Etapa 1.2. Lee el archivo `music_project_en.csv` de la carpeta `/datasets/` y guárdalo en la variable `df`:"
   ]
  },
  {
   "cell_type": "code",
   "execution_count": 3,
   "metadata": {
    "id": "fFVu7vqh_Zct",
    "trusted": true
   },
   "outputs": [],
   "source": [
    "df = pd.read_csv('/datasets/music_project_en.csv')\n"
   ]
  },
  {
   "cell_type": "markdown",
   "metadata": {
    "id": "rDoOMd3uTqnZ"
   },
   "source": [
    "Etapa 1.3. Muestra las 10 primeras filas de la tabla:"
   ]
  },
  {
   "cell_type": "code",
   "execution_count": 4,
   "metadata": {
    "id": "oWTVX3gW_Zct",
    "trusted": true
   },
   "outputs": [
    {
     "name": "stdout",
     "output_type": "stream",
     "text": [
      "     userID                        Track            artist   genre  \\\n",
      "0  FFB692EC            Kamigata To Boots  The Mass Missile    rock   \n",
      "1  55204538  Delayed Because of Accident  Andreas Rönnberg    rock   \n",
      "2    20EC38            Funiculì funiculà       Mario Lanza     pop   \n",
      "3  A3DD03C9        Dragons in the Sunset        Fire + Ice    folk   \n",
      "4  E2DC1FAE                  Soul People        Space Echo   dance   \n",
      "5  842029A1                       Chains          Obladaet  rusrap   \n",
      "6  4CB90AA5                         True      Roman Messer   dance   \n",
      "7  F03E1C1F             Feeling This Way   Polina Griffith   dance   \n",
      "8  8FA1D3BE                     L’estate       Julia Dalia  ruspop   \n",
      "9  E772D5C0                    Pessimist               NaN   dance   \n",
      "\n",
      "        City        time        Day  \n",
      "0  Shelbyville  20:28:33  Wednesday  \n",
      "1  Springfield  14:07:09     Friday  \n",
      "2  Shelbyville  20:58:07  Wednesday  \n",
      "3  Shelbyville  08:37:09     Monday  \n",
      "4  Springfield  08:34:34     Monday  \n",
      "5  Shelbyville  13:09:41     Friday  \n",
      "6  Springfield  13:00:07  Wednesday  \n",
      "7  Springfield  20:47:49  Wednesday  \n",
      "8  Springfield  09:17:40     Friday  \n",
      "9  Shelbyville  21:20:49  Wednesday  \n"
     ]
    }
   ],
   "source": [
    "print(df.head(10))\n",
    "\n"
   ]
  },
  {
   "cell_type": "markdown",
   "metadata": {
    "id": "EO73Kwic_Zct"
   },
   "source": [
    "Etapa 1.4. Obtén la información general sobre la tabla con el método info()."
   ]
  },
  {
   "cell_type": "code",
   "execution_count": 5,
   "metadata": {
    "id": "DSf2kIb-_Zct",
    "scrolled": true,
    "trusted": true
   },
   "outputs": [
    {
     "name": "stdout",
     "output_type": "stream",
     "text": [
      "<class 'pandas.core.frame.DataFrame'>\n",
      "RangeIndex: 65079 entries, 0 to 65078\n",
      "Data columns (total 7 columns):\n",
      " #   Column    Non-Null Count  Dtype \n",
      "---  ------    --------------  ----- \n",
      " 0     userID  65079 non-null  object\n",
      " 1   Track     63736 non-null  object\n",
      " 2   artist    57512 non-null  object\n",
      " 3   genre     63881 non-null  object\n",
      " 4     City    65079 non-null  object\n",
      " 5   time      65079 non-null  object\n",
      " 6   Day       65079 non-null  object\n",
      "dtypes: object(7)\n",
      "memory usage: 3.5+ MB\n"
     ]
    }
   ],
   "source": [
    "df.info()\n"
   ]
  },
  {
   "cell_type": "markdown",
   "metadata": {},
   "source": [
    "<div class=\"alert alert-block alert-success\">\n",
    "<b>Celdas [3–5]</b> <a class=\"tocSkip\"></a><br>\n",
    "Muy buena ejecución de la carga y exploración inicial del conjunto de datos. Usar <code>df.head()</code> e <code>df.info()</code> permitió comprender rápidamente la estructura de los datos, su tipo y la presencia de valores nulos. Estas prácticas son fundamentales en cualquier análisis.\n",
    "</div>\n"
   ]
  },
  {
   "cell_type": "markdown",
   "metadata": {
    "id": "TaQ2Iwbr_Zct"
   },
   "source": [
    "Estas son nuestras observaciones sobre la tabla. Contiene siete columnas que almacenan los mismos tipos de datos: `object`.\n",
    "\n",
    "Según la documentación:\n",
    "- `' userID'`: identificador del usuario;\n",
    "- `'Track'`: título de la canción;\n",
    "- `'artist'`: nombre del artista;\n",
    "- `'genre'`: género de la canción;\n",
    "- `'City'`: ciudad del usuario;\n",
    "- `'time'`: la hora exacta en la que se reprodujo la canción;\n",
    "- `'Day'`: día de la semana.\n",
    "\n",
    "Podemos ver tres problemas con el estilo en los encabezados de la tabla:\n",
    "1. Algunos encabezados están en mayúsculas, otros en minúsculas.\n",
    "2. Hay espacios en algunos encabezados.\n",
    "3. `Detecta el tercer problema por tu cuenta y descríbelo aquí`.\n",
    "\n",
    "\n"
   ]
  },
  {
   "cell_type": "markdown",
   "metadata": {
    "id": "MCB6-dXG_Zct"
   },
   "source": [
    "### Escribe algunas observaciones por tu parte. Contesta a las siguientes preguntas: <a id='data_review_conclusions'></a>\n",
    "\n",
    "`1.   ¿Qué tipo de datos hay en las filas? ¿Cómo podemos saber qué almacenan las columnas?`\n",
    "\n",
    "`2.   ¿Hay suficientes datos para proporcionar respuestas a nuestra hipótesis o necesitamos más información?`\n",
    "\n",
    "`3.   ¿Notaste algún problema en los datos, como valores ausentes, duplicados o tipos de datos incorrectos?`"
   ]
  },
  {
   "cell_type": "markdown",
   "metadata": {
    "id": "emewmQcy3m_F"
   },
   "source": [
    "Escribe aquí tus respuestas:\n",
    "\n",
    "1.todos los datos son objet, al final de la tabla info indica que tipo de dato almacena \n",
    "\n",
    "2.hay 65,079 filas, pero con valores nulos, si hay suficiente informacion pero se puede ver afectada por los valores nulos\n",
    "\n",
    "3.primero hay que organizar la informacion para su tratamiento y posterior hay que tratar los datos nulos para saber que tan confiables son o como afectan el resultado "
   ]
  },
  {
   "cell_type": "markdown",
   "metadata": {
    "id": "3eL__vcwViOi"
   },
   "source": [
    "[Volver a Contenidos](#back)"
   ]
  },
  {
   "cell_type": "markdown",
   "metadata": {
    "id": "SjYF6Ub9_Zct"
   },
   "source": [
    "## Etapa 2. Preprocesamiento de los datos <a id='data_preprocessing'></a>\n",
    "\n",
    "Tu objetivo aquí es preparar los datos para analizarlos.\n",
    "El primer paso es resolver los problemas con los encabezados. Después podemos avanzar a los valores ausentes y duplicados. ¡Empecemos!\n",
    "\n",
    "Vamos a corregir el formato en los encabezados de la tabla.\n"
   ]
  },
  {
   "cell_type": "markdown",
   "metadata": {
    "id": "dIaKXr29_Zct"
   },
   "source": [
    "### Estilo del encabezado <a id='header_style'></a>\n",
    "Etapa 2.1. Muestra los encabezados de la tabla (los nombres de las columnas):"
   ]
  },
  {
   "cell_type": "code",
   "execution_count": 6,
   "metadata": {
    "id": "oKOTdF_Q_Zct",
    "trusted": true
   },
   "outputs": [],
   "source": [
    "nombres_columnas = df.columns.tolist()\n",
    "\n"
   ]
  },
  {
   "cell_type": "code",
   "execution_count": 24,
   "metadata": {
    "id": "Un4tf8yr-GN2",
    "trusted": true
   },
   "outputs": [
    {
     "name": "stdout",
     "output_type": "stream",
     "text": [
      "Index(['  userID', 'Track', 'artist', 'genre', '  City  ', 'time', 'Day'], dtype='object')\n"
     ]
    }
   ],
   "source": [
    "print(df.columns)"
   ]
  },
  {
   "cell_type": "markdown",
   "metadata": {
    "id": "zj5534cv_Zct"
   },
   "source": [
    "Vamos cambiar los encabezados de la tabla siguiendo las reglas estilísticas convencionales:\n",
    "*   Todos los caracteres deben ser minúsculas.\n",
    "*   Elimina los espacios.\n",
    "*   Si el nombre tiene varias palabras, utiliza snake_case.\n"
   ]
  },
  {
   "cell_type": "markdown",
   "metadata": {
    "id": "Xu0zkfe5zNJe"
   },
   "source": [
    "Anteriormente, aprendiste una forma automática de cambiar el nombre de las columnas. Vamos a aplicarla ahora.\n",
    "\n",
    "Etapa 2.2. Utiliza el bucle for para iterar sobre los nombres de las columnas y poner todos los caracteres en minúsculas. Cuando hayas terminado, vuelve a mostrar los encabezados de la tabla:"
   ]
  },
  {
   "cell_type": "code",
   "execution_count": 25,
   "metadata": {
    "id": "6I_RwwMhzM4e",
    "trusted": true
   },
   "outputs": [],
   "source": [
    "# Bucle en los encabezados que lo pone todo en minúsculas\n",
    "new_columns = []\n",
    "for column in df.columns:\n",
    "    new_columns.append(column.lower())\n"
   ]
  },
  {
   "cell_type": "markdown",
   "metadata": {
    "id": "pweIRxjSzPYW"
   },
   "source": [
    "Etapa 2.3. Ahora, utilizando el mismo método, elimina los espacios al principio y al final de los nombres de las columnas y muestra los nombres de las columnas de nuevo:"
   ]
  },
  {
   "cell_type": "code",
   "execution_count": 29,
   "metadata": {
    "id": "vVQXbFyJzSYl",
    "trusted": true
   },
   "outputs": [],
   "source": [
    "# Bucle en los encabezados que elimina los espacios\n",
    "new_columns = []\n",
    "for column in df.columns:\n",
    "    new_columns.append(column.strip().lower())\n",
    "df.columns = new_columns"
   ]
  },
  {
   "cell_type": "markdown",
   "metadata": {
    "id": "yCb8MW1JzURd"
   },
   "source": [
    "Etapa 2.4. Necesitamos aplicar la regla de snake_case en la columna `userid`. Debe ser `user_id`. Cambia el nombre de esta columna y muestra los nombres de todas las columnas cuando hayas terminado."
   ]
  },
  {
   "cell_type": "code",
   "execution_count": 31,
   "metadata": {
    "id": "ISlFqs5y_Zct",
    "trusted": true
   },
   "outputs": [],
   "source": [
    "# Cambia el nombre de la columna \"userid\"\n",
    "\n",
    "df = df.rename(columns={'userid': 'user_id'})"
   ]
  },
  {
   "cell_type": "markdown",
   "metadata": {
    "id": "1dqbh00J_Zct"
   },
   "source": [
    "Etapa 2.5. Comprueba el resultado. Muestra los encabezados una vez más:"
   ]
  },
  {
   "cell_type": "code",
   "execution_count": 32,
   "metadata": {
    "id": "d4NOAmTW_Zct",
    "trusted": true
   },
   "outputs": [
    {
     "name": "stdout",
     "output_type": "stream",
     "text": [
      "Index(['user_id', 'track', 'artist', 'genre', 'city', 'time', 'day'], dtype='object')\n"
     ]
    }
   ],
   "source": [
    "# Comprueba el resultado: lista de encabezados\n",
    "print(df.columns)"
   ]
  },
  {
   "cell_type": "markdown",
   "metadata": {},
   "source": [
    "<div class=\"alert alert-block alert-success\">\n",
    "<b>Celdas [25–32]</b> <a class=\"tocSkip\"></a><br>\n",
    "Excelente trabajo estandarizando los nombres de las columnas. La transición a snake_case, la eliminación de espacios y el uso coherente de minúsculas mejoran la limpieza y mantenibilidad del dataset.\n",
    "</div>\n"
   ]
  },
  {
   "cell_type": "markdown",
   "metadata": {
    "id": "xYJk6ksJVpOl"
   },
   "source": [
    "[Volver a Contenidos](#back)"
   ]
  },
  {
   "cell_type": "markdown",
   "metadata": {
    "id": "5ISfbcfY_Zct"
   },
   "source": [
    "### Valores ausentes <a id='missing_values'></a>\n",
    " Etapa 2.5. Primero, encuentra el número de valores ausentes en la tabla. Debes utilizar dos métodos para obtener el número de valores ausentes."
   ]
  },
  {
   "cell_type": "code",
   "execution_count": 33,
   "metadata": {
    "id": "RskX29qr_Zct",
    "trusted": true
   },
   "outputs": [
    {
     "name": "stdout",
     "output_type": "stream",
     "text": [
      "user_id       0\n",
      "track      1343\n",
      "artist     7567\n",
      "genre      1198\n",
      "city          0\n",
      "time          0\n",
      "day           0\n",
      "dtype: int64\n"
     ]
    }
   ],
   "source": [
    "# Calcula el número de valores ausentes\n",
    "print(df.isna().sum())"
   ]
  },
  {
   "cell_type": "markdown",
   "metadata": {
    "id": "qubhgnlO_Zct"
   },
   "source": [
    "No todos los valores ausentes afectan de la misma forma a la investigación. Por ejemplo, los valores ausentes en 'track' y 'artist' no son cruciales para el análisis, ya que estos datos son más descriptivos que analíticos. Por eso, puedes reemplazarlos directamente con un valor predeterminado como el string 'unknown' (desconocido)."
   ]
  },
  {
   "cell_type": "markdown",
   "metadata": {
    "id": "gzJd_997466T"
   },
   "source": [
    "En cambio, los valores ausentes en 'genre' sí pueden influir en la comparación entre las preferencias musicales de Springfield y Shelbyville. En un escenario real, lo ideal sería investigar por qué faltan estos datos e intentar recuperarlos. Pero en este proyecto no tenemos esa posibilidad, así que deberás rellenar esos valores con un valor predeterminado.\n"
   ]
  },
  {
   "cell_type": "markdown",
   "metadata": {
    "id": "5IzUHGWE5Els"
   },
   "source": [
    "Como vimos anteriormente en las lecciones, la mejor manera de hacerlo es crear una lista con los nombres de las columnas que necesitan reemplazarse.  Luego, utilizar esta lista para iterar sobre cada columna y realizar el reemplazo correspondiente."
   ]
  },
  {
   "cell_type": "markdown",
   "metadata": {
    "id": "fSv2laPA_Zct"
   },
   "source": [
    "Etapa 2.6. Sustituye los valores ausentes en las columnas `'track'`, `'artist'` y `'genre'` con el string `'unknown'`.\n",
    "\n",
    "1. Crea una lista llamada columns_to_replace que contenga los nombres de las columnas 'track', 'artist' y 'genre'.\n",
    "\n",
    "2. Usa un bucle for para iterar sobre cada columna en columns_to_replace.\n",
    "\n",
    "3. Dentro del bucle, sustituye los valores ausentes en cada columna con el string `'unknown'`."
   ]
  },
  {
   "cell_type": "code",
   "execution_count": 34,
   "metadata": {
    "id": "KplB5qWs_Zct",
    "trusted": true
   },
   "outputs": [],
   "source": [
    "# Bucle en los encabezados reemplazando los valores ausentes con 'unknown'\n",
    "columns_to_replace = ['track', 'artist', 'genre']\n",
    "for column in columns_to_replace:\n",
    "    df[column] = df[column].fillna('unknown')"
   ]
  },
  {
   "cell_type": "markdown",
   "metadata": {
    "id": "Ilsm-MZo_Zct"
   },
   "source": [
    "Etapa 2.7. Ahora comprueba el resultado para asegurarte de que no falten valores ausentes por reemplazar en el conjunto de datos. Para ello, cuenta los valores ausentes una vez más."
   ]
  },
  {
   "cell_type": "code",
   "execution_count": 35,
   "metadata": {
    "id": "Tq4nYRX4_Zct",
    "scrolled": true,
    "trusted": true
   },
   "outputs": [
    {
     "name": "stdout",
     "output_type": "stream",
     "text": [
      "track     0\n",
      "artist    0\n",
      "genre     0\n",
      "dtype: int64\n"
     ]
    }
   ],
   "source": [
    "# Cuenta los valores ausentes\n",
    "print(df[columns_to_replace].isna().sum())"
   ]
  },
  {
   "cell_type": "markdown",
   "metadata": {},
   "source": [
    "<div class=\"alert alert-block alert-success\">\n",
    "<b>Celdas [34–35]</b> <a class=\"tocSkip\"></a><br>\n",
    "Muy bien resuelto el manejo de valores nulos. Usar <code>fillna('unknown')</code> para columnas descriptivas es una práctica adecuada cuando no se puede recuperar la información faltante.\n",
    "</div>\n"
   ]
  },
  {
   "cell_type": "markdown",
   "metadata": {
    "id": "74ZIBmq9VrsK"
   },
   "source": [
    "[Volver a Contenidos](#back)"
   ]
  },
  {
   "cell_type": "markdown",
   "metadata": {
    "id": "BWKRtBJ3_Zct"
   },
   "source": [
    "### Duplicados <a id='duplicates'></a>\n",
    "Etapa 2.8. Encuentra el número de duplicados explícitos en la tabla. Una vez más, debes aplicar dos métodos para obtener la cantidad de duplicados explícitos."
   ]
  },
  {
   "cell_type": "code",
   "execution_count": 36,
   "metadata": {
    "id": "36eES_S0_Zct",
    "trusted": true
   },
   "outputs": [],
   "source": [
    "# Cuenta los duplicados explícitos\n",
    "duplicados_totales = df.duplicated().sum()"
   ]
  },
  {
   "cell_type": "markdown",
   "metadata": {
    "id": "Ot25h6XR_Zct"
   },
   "source": [
    "Etapa 2.9. Ahora, elimina todos los duplicados. Para ello, llama al método que hace exactamente esto."
   ]
  },
  {
   "cell_type": "code",
   "execution_count": 37,
   "metadata": {
    "id": "exFHq6tt_Zct",
    "trusted": true
   },
   "outputs": [],
   "source": [
    "# Elimina los duplicados explícitos\n",
    "df.drop_duplicates(inplace=True)"
   ]
  },
  {
   "cell_type": "markdown",
   "metadata": {
    "id": "Im2YwBEG_Zct"
   },
   "source": [
    "Etapa 2.10. Comprobemos ahora si conseguimos eliminar todos los duplicados. Cuenta los duplicados explícitos una vez más para asegurarte de haberlos eliminado todos:"
   ]
  },
  {
   "cell_type": "code",
   "execution_count": 40,
   "metadata": {
    "id": "-8PuNWQ0_Zct",
    "trusted": true
   },
   "outputs": [
    {
     "name": "stdout",
     "output_type": "stream",
     "text": [
      "0\n"
     ]
    }
   ],
   "source": [
    "# Comprueba de nuevo si hay duplicados\n",
    "duplicados_restantes = df.duplicated().sum()\n",
    "\n",
    "\n",
    "print(duplicados_restantes)"
   ]
  },
  {
   "cell_type": "markdown",
   "metadata": {},
   "source": [
    "<div class=\"alert alert-block alert-success\">\n",
    "<b>Celdas [36–40]</b> <a class=\"tocSkip\"></a><br>\n",
    "Buen uso de <code>duplicated()</code> y <code>drop_duplicates()</code> para manejar duplicados explícitos. El doble chequeo antes y después es una excelente práctica para validar que el proceso fue efectivo.\n",
    "</div>\n"
   ]
  },
  {
   "cell_type": "markdown",
   "metadata": {
    "id": "QlFBsxAr_Zct"
   },
   "source": [
    "Ahora queremos deshacernos de los duplicados implícitos en la columna `genre`. Por ejemplo, el nombre de un género se puede escribir de varias formas. Dichos errores también pueden afectar al resultado."
   ]
  },
  {
   "cell_type": "markdown",
   "metadata": {
    "id": "eSjWwsOh_Zct"
   },
   "source": [
    "Etapa 2.11. Primero debemos mostrar una lista de nombres de géneros únicos, por orden alfabético. Para ello:\n",
    "1. Extrae la columna `genre` del DataFrame.\n",
    "2. Llama al método que devolverá todos los valores únicos en la columna extraída.\n"
   ]
  },
  {
   "cell_type": "code",
   "execution_count": 44,
   "metadata": {
    "id": "JIUcqzZN_Zct",
    "trusted": true
   },
   "outputs": [
    {
     "name": "stdout",
     "output_type": "stream",
     "text": [
      "acid\n",
      "acoustic\n",
      "action\n",
      "adult\n",
      "africa\n",
      "afrikaans\n",
      "alternative\n",
      "ambient\n",
      "americana\n",
      "animated\n",
      "anime\n",
      "arabesk\n",
      "arabic\n",
      "arena\n",
      "argentinetango\n",
      "art\n",
      "audiobook\n",
      "avantgarde\n",
      "axé\n",
      "baile\n",
      "balkan\n",
      "beats\n",
      "bigroom\n",
      "black\n",
      "bluegrass\n",
      "blues\n",
      "bollywood\n",
      "bossa\n",
      "brazilian\n",
      "breakbeat\n",
      "breaks\n",
      "broadway\n",
      "cantautori\n",
      "cantopop\n",
      "canzone\n",
      "caribbean\n",
      "caucasian\n",
      "celtic\n",
      "chamber\n",
      "children\n",
      "chill\n",
      "chinese\n",
      "choral\n",
      "christian\n",
      "christmas\n",
      "classical\n",
      "classicmetal\n",
      "club\n",
      "colombian\n",
      "comedy\n",
      "conjazz\n",
      "contemporary\n",
      "country\n",
      "cuban\n",
      "dance\n",
      "dancehall\n",
      "dancepop\n",
      "dark\n",
      "death\n",
      "deep\n",
      "deutschrock\n",
      "deutschspr\n",
      "dirty\n",
      "disco\n",
      "dnb\n",
      "documentary\n",
      "downbeat\n",
      "downtempo\n",
      "drum\n",
      "dub\n",
      "dubstep\n",
      "eastern\n",
      "easy\n",
      "electronic\n",
      "electropop\n",
      "emo\n",
      "entehno\n",
      "epicmetal\n",
      "estrada\n",
      "ethnic\n",
      "eurofolk\n",
      "european\n",
      "experimental\n",
      "extrememetal\n",
      "fado\n",
      "film\n",
      "fitness\n",
      "flamenco\n",
      "folk\n",
      "folklore\n",
      "folkmetal\n",
      "folkrock\n",
      "folktronica\n",
      "forró\n",
      "frankreich\n",
      "französisch\n",
      "french\n",
      "funk\n",
      "future\n",
      "gangsta\n",
      "garage\n",
      "german\n",
      "ghazal\n",
      "gitarre\n",
      "glitch\n",
      "gospel\n",
      "gothic\n",
      "grime\n",
      "grunge\n",
      "gypsy\n",
      "handsup\n",
      "hard'n'heavy\n",
      "hardcore\n",
      "hardstyle\n",
      "hardtechno\n",
      "hip\n",
      "hip-hop\n",
      "hiphop\n",
      "historisch\n",
      "holiday\n",
      "hop\n",
      "horror\n",
      "house\n",
      "idm\n",
      "independent\n",
      "indian\n",
      "indie\n",
      "indipop\n",
      "industrial\n",
      "inspirational\n",
      "instrumental\n",
      "international\n",
      "irish\n",
      "jam\n",
      "japanese\n",
      "jazz\n",
      "jewish\n",
      "jpop\n",
      "jungle\n",
      "k-pop\n",
      "karadeniz\n",
      "karaoke\n",
      "kayokyoku\n",
      "korean\n",
      "laiko\n",
      "latin\n",
      "latino\n",
      "leftfield\n",
      "local\n",
      "lounge\n",
      "loungeelectronic\n",
      "lovers\n",
      "malaysian\n",
      "mandopop\n",
      "marschmusik\n",
      "meditative\n",
      "mediterranean\n",
      "melodic\n",
      "metal\n",
      "metalcore\n",
      "mexican\n",
      "middle\n",
      "minimal\n",
      "miscellaneous\n",
      "modern\n",
      "mood\n",
      "mpb\n",
      "muslim\n",
      "native\n",
      "neoklassik\n",
      "neue\n",
      "new\n",
      "newage\n",
      "newwave\n",
      "nu\n",
      "nujazz\n",
      "numetal\n",
      "oceania\n",
      "old\n",
      "opera\n",
      "orchestral\n",
      "other\n",
      "piano\n",
      "pop\n",
      "popelectronic\n",
      "popeurodance\n",
      "post\n",
      "posthardcore\n",
      "postrock\n",
      "power\n",
      "progmetal\n",
      "progressive\n",
      "psychedelic\n",
      "punjabi\n",
      "punk\n",
      "quebecois\n",
      "ragga\n",
      "ram\n",
      "rancheras\n",
      "rap\n",
      "rave\n",
      "reggae\n",
      "reggaeton\n",
      "regional\n",
      "relax\n",
      "religious\n",
      "retro\n",
      "rhythm\n",
      "rnb\n",
      "rnr\n",
      "rock\n",
      "rockabilly\n",
      "romance\n",
      "roots\n",
      "ruspop\n",
      "rusrap\n",
      "rusrock\n",
      "salsa\n",
      "samba\n",
      "schlager\n",
      "self\n",
      "sertanejo\n",
      "shoegazing\n",
      "showtunes\n",
      "singer\n",
      "ska\n",
      "slow\n",
      "smooth\n",
      "soul\n",
      "soulful\n",
      "sound\n",
      "soundtrack\n",
      "southern\n",
      "specialty\n",
      "speech\n",
      "spiritual\n",
      "sport\n",
      "stonerrock\n",
      "surf\n",
      "swing\n",
      "synthpop\n",
      "sängerportrait\n",
      "tango\n",
      "tanzorchester\n",
      "taraftar\n",
      "tech\n",
      "techno\n",
      "thrash\n",
      "top\n",
      "traditional\n",
      "tradjazz\n",
      "trance\n",
      "tribal\n",
      "trip\n",
      "triphop\n",
      "tropical\n",
      "türk\n",
      "türkçe\n",
      "unknown\n",
      "urban\n",
      "uzbek\n",
      "variété\n",
      "vi\n",
      "videogame\n",
      "vocal\n",
      "western\n",
      "world\n",
      "worldbeat\n",
      "ïîï\n"
     ]
    }
   ],
   "source": [
    "# Inspecciona los nombres de géneros únicos\n",
    "unique_genres = df['genre'].unique()\n",
    "\n",
    "\n",
    "sorted_genres = sorted(unique_genres)\n",
    "for genre in sorted_genres:\n",
    "    print(genre)"
   ]
  },
  {
   "cell_type": "markdown",
   "metadata": {
    "id": "qej-Qmuo_Zct"
   },
   "source": [
    "Vamos a examinar la lista para identificar **duplicados implícitos** del género `hiphop`, es decir, nombres mal escritos o variantes que hacen referencia al mismo género musical.\n",
    "\n",
    "Algunos de los duplicados que encontrarás son:\n",
    "\n",
    "* `hip`  \n",
    "* `hop`  \n",
    "* `hip-hop`  \n",
    "\n",
    "Para solucionarlo, vamos a crear una función llamada `replace_wrong_genres()` que tendrá dos parámetros:\n",
    "\n",
    "* `wrong_genres`: una lista con todos los valores que deben ser reemplazados.  \n",
    "* `correct_genre`: un string que se utilizará como valor de reemplazo.\n",
    "\n",
    "El objetivo de esta función es **corregir los valores en la columna `'genre'` del DataFrame `df`**, reemplazando cada valor de la lista `wrong_genres` por `correct_genre`."
   ]
  },
  {
   "cell_type": "markdown",
   "metadata": {
    "id": "7kmujhjP_bIl"
   },
   "source": [
    "Etapa 2.12.\n",
    "1. Define una función llamada `replace_wrong_genres()` que reciba dos parámetros: `wrong_genres` y `correct_genre`.\n",
    "\n",
    "2. Dentro de la función, utiliza un bucle `for` para iterar sobre cada valor en la lista `wrong_genres`.\n",
    "\n",
    "3. En cada iteración, accede a la columna `'genre'` del DataFrame `df` y utiliza el método `.replace()` para sustituir el valor incorrecto por `correct_genre`.\n",
    "\n",
    "4. Llama a la función y pasa como argumentos:\n",
    "   - Una lista con los duplicados implícitos: `['hip', 'hop', 'hip-hop']`\n",
    "   - El string de reemplazo: `'hiphop'`"
   ]
  },
  {
   "cell_type": "code",
   "execution_count": 45,
   "metadata": {
    "id": "ErNDkmns_Zct",
    "trusted": true
   },
   "outputs": [],
   "source": [
    "# Función para reemplazar los duplicados implícitos\n",
    "def replace_wrong_genres(wrong_genres, correct_genre):\n",
    "     for wrong_genre in wrong_genres:\n",
    "        df['genre'] = df['genre'].replace(wrong_genre, correct_genre)"
   ]
  },
  {
   "cell_type": "markdown",
   "metadata": {
    "id": "aDoBJxbA_Zct"
   },
   "source": [
    "Etapa 2.13. Ahora, llama a `replace_wrong_genres()` y pásale estos argumentos para que retire los duplicados implícitos (`hip`, `hop` y `hip-hop`) y los sustituya por `hiphop`:"
   ]
  },
  {
   "cell_type": "code",
   "execution_count": 46,
   "metadata": {
    "id": "YN5i2hpmSo09",
    "trusted": true
   },
   "outputs": [],
   "source": [
    "# Elimina los duplicados implícitos\n",
    "replace_wrong_genres(\n",
    "    wrong_genres=['hip', 'hop', 'hip-hop'], \n",
    "    correct_genre='hiphop')"
   ]
  },
  {
   "cell_type": "markdown",
   "metadata": {},
   "source": [
    "<div class=\"alert alert-block alert-success\">\n",
    "<b>Celdas [45–46]</b> <a class=\"tocSkip\"></a><br>\n",
    "La creación de la función <code>replace_wrong_genres()</code> muestra comprensión de cómo aplicar transformaciones reutilizables sobre el DataFrame. También se nota atención al detalle en la limpieza de valores inconsistentes, lo cual es fundamental en análisis reales.\n",
    "</div>\n"
   ]
  },
  {
   "cell_type": "markdown",
   "metadata": {
    "id": "zQKF16_RG15m"
   },
   "source": [
    "Etapa 2.14. Asegúrate de que los nombres duplicados se hayan eliminado. Muestra la lista de valores únicos de la columna `'genre'` una vez más:"
   ]
  },
  {
   "cell_type": "code",
   "execution_count": 50,
   "metadata": {
    "id": "wvixALnFG15m",
    "scrolled": true,
    "trusted": true
   },
   "outputs": [
    {
     "name": "stdout",
     "output_type": "stream",
     "text": [
      "['acid', 'acoustic', 'action', 'adult', 'africa', 'afrikaans', 'alternative', 'ambient', 'americana', 'animated', 'anime', 'arabesk', 'arabic', 'arena', 'argentinetango', 'art', 'audiobook', 'avantgarde', 'axé', 'baile', 'balkan', 'beats', 'bigroom', 'black', 'bluegrass', 'blues', 'bollywood', 'bossa', 'brazilian', 'breakbeat', 'breaks', 'broadway', 'cantautori', 'cantopop', 'canzone', 'caribbean', 'caucasian', 'celtic', 'chamber', 'children', 'chill', 'chinese', 'choral', 'christian', 'christmas', 'classical', 'classicmetal', 'club', 'colombian', 'comedy', 'conjazz', 'contemporary', 'country', 'cuban', 'dance', 'dancehall', 'dancepop', 'dark', 'death', 'deep', 'deutschrock', 'deutschspr', 'dirty', 'disco', 'dnb', 'documentary', 'downbeat', 'downtempo', 'drum', 'dub', 'dubstep', 'eastern', 'easy', 'electronic', 'electropop', 'emo', 'entehno', 'epicmetal', 'estrada', 'ethnic', 'eurofolk', 'european', 'experimental', 'extrememetal', 'fado', 'film', 'fitness', 'flamenco', 'folk', 'folklore', 'folkmetal', 'folkrock', 'folktronica', 'forró', 'frankreich', 'französisch', 'french', 'funk', 'future', 'gangsta', 'garage', 'german', 'ghazal', 'gitarre', 'glitch', 'gospel', 'gothic', 'grime', 'grunge', 'gypsy', 'handsup', \"hard'n'heavy\", 'hardcore', 'hardstyle', 'hardtechno', 'hiphop', 'historisch', 'holiday', 'horror', 'house', 'idm', 'independent', 'indian', 'indie', 'indipop', 'industrial', 'inspirational', 'instrumental', 'international', 'irish', 'jam', 'japanese', 'jazz', 'jewish', 'jpop', 'jungle', 'k-pop', 'karadeniz', 'karaoke', 'kayokyoku', 'korean', 'laiko', 'latin', 'latino', 'leftfield', 'local', 'lounge', 'loungeelectronic', 'lovers', 'malaysian', 'mandopop', 'marschmusik', 'meditative', 'mediterranean', 'melodic', 'metal', 'metalcore', 'mexican', 'middle', 'minimal', 'miscellaneous', 'modern', 'mood', 'mpb', 'muslim', 'native', 'neoklassik', 'neue', 'new', 'newage', 'newwave', 'nu', 'nujazz', 'numetal', 'oceania', 'old', 'opera', 'orchestral', 'other', 'piano', 'pop', 'popelectronic', 'popeurodance', 'post', 'posthardcore', 'postrock', 'power', 'progmetal', 'progressive', 'psychedelic', 'punjabi', 'punk', 'quebecois', 'ragga', 'ram', 'rancheras', 'rap', 'rave', 'reggae', 'reggaeton', 'regional', 'relax', 'religious', 'retro', 'rhythm', 'rnb', 'rnr', 'rock', 'rockabilly', 'romance', 'roots', 'ruspop', 'rusrap', 'rusrock', 'salsa', 'samba', 'schlager', 'self', 'sertanejo', 'shoegazing', 'showtunes', 'singer', 'ska', 'slow', 'smooth', 'soul', 'soulful', 'sound', 'soundtrack', 'southern', 'specialty', 'speech', 'spiritual', 'sport', 'stonerrock', 'surf', 'swing', 'synthpop', 'sängerportrait', 'tango', 'tanzorchester', 'taraftar', 'tech', 'techno', 'thrash', 'top', 'traditional', 'tradjazz', 'trance', 'tribal', 'trip', 'triphop', 'tropical', 'türk', 'türkçe', 'unknown', 'urban', 'uzbek', 'variété', 'vi', 'videogame', 'vocal', 'western', 'world', 'worldbeat', 'ïîï']\n"
     ]
    }
   ],
   "source": [
    "# Comprueba de nuevo los duplicados implícitos\n",
    "print(sorted(df['genre'].dropna().unique()))\n"
   ]
  },
  {
   "cell_type": "markdown",
   "metadata": {
    "id": "ALgNbvF3VtPA"
   },
   "source": [
    "[Volver a Contenidos](#back)"
   ]
  },
  {
   "cell_type": "markdown",
   "metadata": {
    "id": "jz6a9-7HQUDd"
   },
   "source": [
    "### Observaciones <a id='data_preprocessing_conclusions'></a>\n",
    "\n",
    "`Redacta un breve resumen de lo que descubriste al analizar los datos. Tu respuesta debe identificar los problemas detectados, explicar cómo los resolviste y describir cómo esas acciones mejoran la calidad del análisis.`"
   ]
  },
  {
   "cell_type": "markdown",
   "metadata": {
    "id": "lN8zFHxhAF5O"
   },
   "source": [
    "Etapa 2.14. Descríbelo aquí. bueno a lo largo del curso hemoa visto diferentes listas de datos y sabemos que en su mayoria son recabadas con informacion que el mismo cliente brinda y dado a que es un proceso automatico hay veces que la informacion no esta completa o es incorrecta y en el caso de esta lista de datos podemos ver errores de agrupacion, de datos faltantes y errores en el nombre de las columnas lo ideal es que los datos ya vayan limpios para poder ahorrar tiempo y enfocarnos mas en el analisis de los datos "
   ]
  },
  {
   "cell_type": "markdown",
   "metadata": {
    "id": "eK1es74rVujj"
   },
   "source": [
    "[Volver a Contenidos](#back)"
   ]
  },
  {
   "cell_type": "markdown",
   "metadata": {
    "id": "WttZHXH0SqKk"
   },
   "source": [
    "## Etapa 3. Prueba de la hipótesis <a id='hypothesis'></a>"
   ]
  },
  {
   "cell_type": "markdown",
   "metadata": {
    "id": "Im936VVi_Zcu"
   },
   "source": [
    "### Tarea: Comparar el comportamiento de los usuarios en las dos ciudades <a id='activity'></a>"
   ]
  },
  {
   "cell_type": "markdown",
   "metadata": {
    "id": "nwt_MuaL_Zcu"
   },
   "source": [
    "La hipótesis que queremos probar plantea que existen diferencias en la forma en que los usuarios de Springfield y Shelbyville consumen música.\n",
    "Para analizar esto, nos enfocaremos en los datos correspondientes a tres días específicos de la semana: lunes, miércoles y viernes."
   ]
  },
  {
   "cell_type": "markdown",
   "metadata": {
    "id": "8Dw_YMmT_Zcu"
   },
   "source": [
    "El análisis consistirá en comparar la cantidad de canciones reproducidas por los usuarios de cada ciudad en esos días. Esto nos permitirá observar posibles patrones o diferencias en los hábitos de consumo entre Springfield y Shelbyville.\n",
    "\n",
    "Para llevar a cabo este análisis, es importante seguir el enfoque de dividir-aplicar-combinar, del que ya hablamos en la lección. En este caso:\n",
    "\n",
    "*  Dividir: separamos los datos en grupos según la ciudad.\n",
    "\n",
    "*  Aplicar: dentro de cada grupo, contamos cuántas canciones se reprodujeron.\n",
    "\n",
    "*  Combinar: reunimos los resultados en una estructura que nos permita comparar fácilmente ambas ciudades."
   ]
  },
  {
   "cell_type": "markdown",
   "metadata": {
    "id": "c0MoTnZcB-hW"
   },
   "source": [
    "Este procedimiento debe repetirse de forma independiente para cada uno de los tres días seleccionados. El resultado final debe mostrar el número de reproducciones por ciudad en cada uno de esos días.\n",
    "\n",
    "Una posible forma de estructurar el código sería con la siguiente expresión:\n",
    "\n",
    "`df.groupby(by='...')['...'].method()`\n",
    "\n",
    "Deberás completar los argumentos correspondientes para agrupar por ciudad y contar las canciones reproducidas. Este enfoque te dará una visión clara y comparativa del comportamiento de los usuarios en ambas ciudades."
   ]
  },
  {
   "cell_type": "markdown",
   "metadata": {
    "id": "dgMGeLF2CMJv"
   },
   "source": [
    "Etapa 3.1. Cuenta cuántas canciones se reprodujeron en cada ciudad utilizando la columna 'track' como referencia."
   ]
  },
  {
   "cell_type": "code",
   "execution_count": 54,
   "metadata": {
    "id": "0_Qs96oh_Zcu",
    "trusted": true
   },
   "outputs": [
    {
     "name": "stdout",
     "output_type": "stream",
     "text": [
      "city\n",
      "Shelbyville    18512\n",
      "Springfield    42741\n",
      "Name: track, dtype: int64\n"
     ]
    }
   ],
   "source": [
    "# Cuenta las canciones reproducidas en cada ciudad\n",
    "plays_by_city = df.groupby('city')['track'].count()\n",
    "print(plays_by_city)"
   ]
  },
  {
   "cell_type": "markdown",
   "metadata": {
    "id": "cC2tNrlL_Zcu"
   },
   "source": [
    "`Redacta brevemente tus observaciones sobre los resultados. ¿Qué diferencias notaste entre Springfield y Shelbyville? ¿A qué podrían deberse esas diferencias?`"
   ]
  },
  {
   "cell_type": "markdown",
   "metadata": {
    "id": "Kjb4vX38DC3I"
   },
   "source": [
    "Etapa 3.2. Escribe tus observaciones aquí. pues veo una gran diferencia y dado que no conozco las ciudades y probalemente sea imaginarias (simpsons) solo puedo decir que la diferencia puede ser por tama;o de poblacion"
   ]
  },
  {
   "cell_type": "markdown",
   "metadata": {
    "id": "dzli3w8o_Zcu"
   },
   "source": [
    "Etapa 3.3.\n",
    "1. Agrupa los datos por día de la semana y cuenta cuántas canciones se reprodujeron los lunes, miércoles y viernes.\n",
    "\n",
    "2. Utiliza el mismo método de conteo que antes, pero ahora cambia la columna de agrupación para enfocarte en el día.\n",
    "\n",
    "3. Esto te permitirá identificar posibles patrones de escucha según el día de la semana.\n"
   ]
  },
  {
   "cell_type": "code",
   "execution_count": 57,
   "metadata": {
    "id": "uZMKjiJz_Zcu",
    "scrolled": true,
    "trusted": true
   },
   "outputs": [
    {
     "name": "stdout",
     "output_type": "stream",
     "text": [
      "Monday\n",
      "city\n",
      "Shelbyville     5614\n",
      "Springfield    15740\n",
      "Name: track, dtype: int64\n",
      "Wednesday\n",
      "city\n",
      "Shelbyville     7003\n",
      "Springfield    11056\n",
      "Name: track, dtype: int64\n",
      "Friday\n",
      "city\n",
      "Shelbyville     5895\n",
      "Springfield    15945\n",
      "Name: track, dtype: int64\n"
     ]
    }
   ],
   "source": [
    "# Calcula las canciones reproducidas en cada uno de los tres días\n",
    "target_days = ['Monday', 'Wednesday', 'Friday']\n",
    "\n",
    "for day in target_days:\n",
    "    day_data = df[df['day'] == day]\n",
    "    plays_by_city = day_data.groupby('city')['track'].count()\n",
    "    print(day)\n",
    "    print(plays_by_city)"
   ]
  },
  {
   "cell_type": "markdown",
   "metadata": {},
   "source": [
    "<div class=\"alert alert-block alert-success\">\n",
    "<b>Celdas [54–57]</b> <a class=\"tocSkip\"></a><br>\n",
    "Has aplicado correctamente el enfoque dividir-aplicar-combinar para agrupar por ciudad y por día. El análisis por día permite observar patrones de comportamiento, y los resultados están bien organizados.\n",
    "</div>\n"
   ]
  },
  {
   "cell_type": "markdown",
   "metadata": {
    "id": "t_Qx-3NewAnK"
   },
   "source": [
    "`Describe brevemente qué observaste al comparar los lunes, miércoles y viernes. ¿Hubo algún día con menos actividad? ¿Cambian las conclusiones si analizas cada ciudad por separado?`"
   ]
  },
  {
   "cell_type": "markdown",
   "metadata": {
    "id": "q537Zl8oDNfH"
   },
   "source": [
    "Etapa 3.4. Escribe tus observaciones aquí.pues despues de una vista rapida de los datos y confirmando que en Springfiel tienen mayor numero de personas que escuchan musica solo puedo decir que el dia con mas personas es miercoles para Shelbyville , mientras que para Springfield es el viernes "
   ]
  },
  {
   "cell_type": "markdown",
   "metadata": {
    "id": "POzs8bGa_Zcu"
   },
   "source": [
    "Hasta ahora has aprendido a contar entradas agrupándolas por un solo criterio, como la ciudad o el día de la semana. Ahora vamos a dar un paso más: necesitas crear una función que **cuente cuántas canciones se reprodujeron en una ciudad específica durante un día determinado**, combinando ambos criterios de filtrado.\n",
    "\n",
    "La función se llamará `number_tracks()` y debe aceptar dos parámetros:\n",
    "\n",
    "- `day`: un día de la semana (por ejemplo, `'Monday'`).\n",
    "- `city`: el nombre de una ciudad (por ejemplo, `'Springfield'`).\n",
    "\n",
    "Dentro de la función, deberás aplicar un **filtrado secuencial mediante indexación lógica**: primero tendrás que filtrar el DataFrame por el día, y luego por la ciudad. Una vez que tengas el subconjunto de datos correcto, debes contar cuántas veces aparece un valor en la columna `'user_id'`. Ese número representará el total de canciones reproducidas bajo esos dos criterios.\n",
    "\n"
   ]
  },
  {
   "cell_type": "markdown",
   "metadata": {
    "id": "itD2P5lhEpuX"
   },
   "source": [
    "Etapa 3.5.\n",
    "1. Declara una función llamada `number_tracks()` con dos parámetros: `day` y `city`.\n",
    "\n",
    "2. Filtra el DataFrame para conservar solo las filas donde la columna `'day'` sea igual al valor del parámetro `day`.\n",
    "\n",
    "3. A partir del resultado anterior, filtra nuevamente para conservar solo las filas donde la columna `'city'` sea igual al valor del parámetro `city`.\n",
    "\n",
    "4. Extrae la columna `'user_id'` del DataFrame filtrado y utiliza el método `.count()` para contar el número de entradas.\n",
    "\n",
    "5. Guarda ese valor en una variable y **devuélvelo** como resultado de la función.\n"
   ]
  },
  {
   "cell_type": "code",
   "execution_count": 59,
   "metadata": {
    "id": "Nz3GdQB1_Zcu",
    "trusted": true
   },
   "outputs": [],
   "source": [
    "# Declara la función number_tracks() con dos parámetros: day= y city=.\n",
    "def number_tracks(day, city):\n",
    "\n",
    "    # Almacena las filas del DataFrame donde el valor en la columna 'day' es igual al parámetro day=\n",
    "    day_rows = df[df['day'] == day]\n",
    "    # Filtra las filas donde el valor en la columna 'city' es igual al parámetro city=\n",
    "    city_day_rows = day_rows[day_rows['city'] == city]\n",
    "    # Extrae la columna 'user_id' de la tabla filtrada y aplica el método count()\n",
    "    play_count = city_day_rows['user_id'].count()\n",
    "    # Devuelve el número de valores de la columna 'user_id'\n",
    "    return play_count"
   ]
  },
  {
   "cell_type": "markdown",
   "metadata": {
    "id": "ytf7xFrFJQ2r"
   },
   "source": [
    "Etapa 3.6. Llama a `number_tracks()` seis veces, cambiando los valores de los parámetros para que puedas recuperar los datos de ambas ciudades para cada uno de los tres días."
   ]
  },
  {
   "cell_type": "code",
   "execution_count": 60,
   "metadata": {
    "id": "rJcRATNQ_Zcu",
    "trusted": true
   },
   "outputs": [
    {
     "name": "stdout",
     "output_type": "stream",
     "text": [
      "Springfield: 15740\n"
     ]
    }
   ],
   "source": [
    "# El número de canciones reproducidas en Springfield el lunes\n",
    "print(\"Springfield:\", number_tracks('Monday', 'Springfield'))"
   ]
  },
  {
   "cell_type": "code",
   "execution_count": 61,
   "metadata": {
    "id": "hq_ncZ5T_Zcu",
    "trusted": true
   },
   "outputs": [
    {
     "name": "stdout",
     "output_type": "stream",
     "text": [
      "Shelbyville: 5614\n"
     ]
    }
   ],
   "source": [
    "# El número de canciones reproducidas en Shelbyville el lunes\n",
    "print(\"Shelbyville:\", number_tracks('Monday', 'Shelbyville'))"
   ]
  },
  {
   "cell_type": "code",
   "execution_count": 62,
   "metadata": {
    "id": "_NTy2VPU_Zcu",
    "trusted": true
   },
   "outputs": [
    {
     "name": "stdout",
     "output_type": "stream",
     "text": [
      "Springfield: 11056\n"
     ]
    }
   ],
   "source": [
    "# El número de canciones reproducidas en Springfield el miércoles\n",
    "print(\"Springfield:\", number_tracks('Wednesday', 'Springfield'))"
   ]
  },
  {
   "cell_type": "code",
   "execution_count": 63,
   "metadata": {
    "id": "j2y3TAwo_Zcu",
    "trusted": true
   },
   "outputs": [
    {
     "name": "stdout",
     "output_type": "stream",
     "text": [
      "Shelbyville: 7003\n"
     ]
    }
   ],
   "source": [
    "# El número de canciones reproducidas en Shelbyville el miércoles\n",
    "print(\"Shelbyville:\", number_tracks('Wednesday', 'Shelbyville'))"
   ]
  },
  {
   "cell_type": "code",
   "execution_count": 64,
   "metadata": {
    "id": "vYDw5u_K_Zcu",
    "trusted": true
   },
   "outputs": [
    {
     "name": "stdout",
     "output_type": "stream",
     "text": [
      "Springfield: 15945\n"
     ]
    }
   ],
   "source": [
    "# El número de canciones reproducidas en Springfield el viernes\n",
    "print(\"Springfield:\", number_tracks('Friday', 'Springfield'))"
   ]
  },
  {
   "cell_type": "code",
   "execution_count": 65,
   "metadata": {
    "id": "8_yzFtW3_Zcu",
    "trusted": true
   },
   "outputs": [
    {
     "name": "stdout",
     "output_type": "stream",
     "text": [
      "Shelbyville: 5895\n"
     ]
    }
   ],
   "source": [
    "# El número de canciones reproducidas en Shelbyville el viernes\n",
    "print(\"Shelbyville:\", number_tracks('Friday', 'Shelbyville'))"
   ]
  },
  {
   "cell_type": "markdown",
   "metadata": {},
   "source": [
    "<div class=\"alert alert-block alert-success\">\n",
    "<b>Celdas [59–65]</b> <a class=\"tocSkip\"></a><br>\n",
    "Muy buen diseño y uso de la función <code>number_tracks()</code>. Muestra dominio de la indexación lógica y el uso de filtros múltiples. La repetición sistemática para distintos casos demuestra un enfoque organizado.\n",
    "</div>\n"
   ]
  },
  {
   "cell_type": "markdown",
   "metadata": {
    "id": "p7nFQajCVw5B"
   },
   "source": [
    "[Volver a Contenidos](#back)"
   ]
  },
  {
   "cell_type": "markdown",
   "metadata": {
    "id": "ykKQ0N65_Zcv"
   },
   "source": [
    "# Conclusiones <a id='end'></a>"
   ]
  },
  {
   "cell_type": "markdown",
   "metadata": {
    "id": "tjUwbHb3_Zcv"
   },
   "source": [
    "##Escribe tus conclusiones finales sobre la hipótesis.\n",
    " * ¿Los datos apoyan la idea de que el comportamiento de los usuarios respecto a la música que escuchan varía según la ciudad y el día de la semana?\n",
    " * Indica si la hipótesis debe aceptarse o rechazarse, y justifica tu respuesta con base en los resultados obtenidos."
   ]
  },
  {
   "cell_type": "markdown",
   "metadata": {
    "id": "piRc-ATKFwZ3"
   },
   "source": [
    "Etapa 4. Detalla aquí tus conclusiones. Springfield tuvo ciertamente más reproducciones que Shelbyville en los tres días analizados, creo que estos datos solo nos muestarn una diferencia sea geografica o cultural tendriamos que analizar otros factores para tomar decisiones mas importantes \n",
    "La hipótesis se acepta. Los datos demuestran que\n",
    "\n",
    "Factores geográficos (ciudad) influyen en el consumo musical, posiblemente debido a diferencias demográficas, preferencias culturales u oferta de eventos locales.\n"
   ]
  },
  {
   "cell_type": "markdown",
   "metadata": {
    "id": "azLHu64yOIp7"
   },
   "source": [
    "### Nota\n",
    "En los proyectos de investigación reales, la prueba de hipótesis estadística es más precisa y cuantitativa. También ten en cuenta que no siempre se pueden sacar conclusiones sobre una ciudad entera a partir de datos de una sola fuente.\n",
    "\n",
    "Aprenderás más sobre la prueba de hipótesis en el sprint de análisis estadístico de datos."
   ]
  },
  {
   "cell_type": "markdown",
   "metadata": {
    "id": "Ju4AHDSgV1FE"
   },
   "source": [
    "[Volver a Contenidos](#back)"
   ]
  },
  {
   "cell_type": "markdown",
   "metadata": {},
   "source": [
    "<div class=\"alert alert-block alert-success\">\n",
    "<b>Comentario final</b> <a class=\"tocSkip\"></a><br>\n",
    "¡Gran trabajo, Hans! El proyecto demuestra una muy buena comprensión del flujo de análisis de datos: desde la carga y limpieza hasta la prueba de hipótesis. Tus funciones están bien estructuradas, el código es claro y se aplican buenas prácticas en cada etapa. ¡Sigue así!\n",
    "</div>\n"
   ]
  }
 ],
 "metadata": {
  "ExecuteTimeLog": [
   {
    "duration": 194,
    "start_time": "2025-04-09T20:10:59.705Z"
   },
   {
    "duration": 293,
    "start_time": "2025-04-09T20:11:10.171Z"
   },
   {
    "duration": 44,
    "start_time": "2025-04-09T20:11:12.529Z"
   },
   {
    "duration": 3,
    "start_time": "2025-04-09T20:12:21.632Z"
   },
   {
    "duration": 111,
    "start_time": "2025-04-09T20:12:25.910Z"
   },
   {
    "duration": 7,
    "start_time": "2025-04-09T20:12:32.822Z"
   },
   {
    "duration": 23,
    "start_time": "2025-04-09T20:13:34.989Z"
   },
   {
    "duration": 14,
    "start_time": "2025-04-09T20:23:48.395Z"
   },
   {
    "duration": 3,
    "start_time": "2025-04-09T20:26:15.529Z"
   },
   {
    "duration": 3,
    "start_time": "2025-04-09T20:26:40.089Z"
   },
   {
    "duration": 3,
    "start_time": "2025-04-09T20:29:45.037Z"
   },
   {
    "duration": 4,
    "start_time": "2025-04-09T20:30:17.574Z"
   },
   {
    "duration": 154,
    "start_time": "2025-04-10T00:46:55.362Z"
   },
   {
    "duration": 284,
    "start_time": "2025-04-10T00:47:07.669Z"
   },
   {
    "duration": 110,
    "start_time": "2025-04-10T00:47:09.581Z"
   },
   {
    "duration": 6,
    "start_time": "2025-04-10T00:47:11.255Z"
   },
   {
    "duration": 22,
    "start_time": "2025-04-10T00:47:14.644Z"
   },
   {
    "duration": 2,
    "start_time": "2025-04-10T00:47:20.158Z"
   },
   {
    "duration": 2,
    "start_time": "2025-04-10T00:47:24.003Z"
   },
   {
    "duration": 2,
    "start_time": "2025-04-10T00:47:30.462Z"
   },
   {
    "duration": 3,
    "start_time": "2025-04-10T00:47:32.750Z"
   },
   {
    "duration": 4,
    "start_time": "2025-04-10T00:48:08.201Z"
   },
   {
    "duration": 6,
    "start_time": "2025-04-10T00:48:42.571Z"
   },
   {
    "duration": 3,
    "start_time": "2025-04-10T00:48:56.337Z"
   },
   {
    "duration": 2,
    "start_time": "2025-04-10T00:49:00.553Z"
   },
   {
    "duration": 3,
    "start_time": "2025-04-10T00:50:20.184Z"
   },
   {
    "duration": 34,
    "start_time": "2025-04-10T00:51:30.187Z"
   },
   {
    "duration": 9,
    "start_time": "2025-04-10T00:52:07.159Z"
   },
   {
    "duration": 8,
    "start_time": "2025-04-10T00:52:32.915Z"
   },
   {
    "duration": 25,
    "start_time": "2025-04-10T00:52:50.432Z"
   },
   {
    "duration": 6,
    "start_time": "2025-04-10T00:53:05.058Z"
   },
   {
    "duration": 4,
    "start_time": "2025-04-10T00:54:27.963Z"
   },
   {
    "duration": 5,
    "start_time": "2025-04-10T00:57:06.890Z"
   },
   {
    "duration": 3,
    "start_time": "2025-04-10T00:57:51.297Z"
   },
   {
    "duration": 3,
    "start_time": "2025-04-10T00:58:50.612Z"
   },
   {
    "duration": 3,
    "start_time": "2025-04-10T01:01:54.572Z"
   },
   {
    "duration": 2,
    "start_time": "2025-04-10T01:02:07.909Z"
   },
   {
    "duration": 3,
    "start_time": "2025-04-10T01:02:09.912Z"
   },
   {
    "duration": 5,
    "start_time": "2025-04-10T01:02:13.906Z"
   },
   {
    "duration": 3,
    "start_time": "2025-04-10T01:02:22.014Z"
   },
   {
    "duration": 3,
    "start_time": "2025-04-10T01:03:50.139Z"
   },
   {
    "duration": 3,
    "start_time": "2025-04-10T01:04:07.630Z"
   },
   {
    "duration": 6,
    "start_time": "2025-04-10T01:04:55.878Z"
   },
   {
    "duration": 3,
    "start_time": "2025-04-10T01:04:59.206Z"
   },
   {
    "duration": 17,
    "start_time": "2025-04-10T01:06:53.774Z"
   },
   {
    "duration": 15,
    "start_time": "2025-04-10T01:10:30.369Z"
   },
   {
    "duration": 12,
    "start_time": "2025-04-10T01:10:33.995Z"
   },
   {
    "duration": 41,
    "start_time": "2025-04-10T01:12:03.571Z"
   },
   {
    "duration": 44,
    "start_time": "2025-04-10T01:15:52.505Z"
   },
   {
    "duration": 21,
    "start_time": "2025-04-10T01:15:54.551Z"
   },
   {
    "duration": 38,
    "start_time": "2025-04-10T01:16:32.271Z"
   },
   {
    "duration": 38,
    "start_time": "2025-04-10T01:16:53.863Z"
   },
   {
    "duration": 8,
    "start_time": "2025-04-10T01:20:27.075Z"
   },
   {
    "duration": 7,
    "start_time": "2025-04-10T01:21:01.093Z"
   },
   {
    "duration": 8,
    "start_time": "2025-04-10T01:22:21.046Z"
   },
   {
    "duration": 7,
    "start_time": "2025-04-10T01:22:45.812Z"
   },
   {
    "duration": 3,
    "start_time": "2025-04-10T01:28:44.175Z"
   },
   {
    "duration": 8,
    "start_time": "2025-04-10T01:29:29.789Z"
   },
   {
    "duration": 8,
    "start_time": "2025-04-10T01:29:51.114Z"
   },
   {
    "duration": 9,
    "start_time": "2025-04-10T01:30:39.902Z"
   },
   {
    "duration": 3,
    "start_time": "2025-04-10T01:31:06.581Z"
   },
   {
    "duration": 9,
    "start_time": "2025-04-10T01:31:28.927Z"
   },
   {
    "duration": 9,
    "start_time": "2025-04-10T01:43:14.843Z"
   },
   {
    "duration": 28,
    "start_time": "2025-04-10T01:45:12.326Z"
   },
   {
    "duration": 23,
    "start_time": "2025-04-10T01:48:18.811Z"
   },
   {
    "duration": 10,
    "start_time": "2025-04-10T01:48:57.686Z"
   },
   {
    "duration": 23,
    "start_time": "2025-04-10T01:53:06.802Z"
   },
   {
    "duration": 27,
    "start_time": "2025-04-10T01:53:27.258Z"
   },
   {
    "duration": 28,
    "start_time": "2025-04-10T01:53:51.625Z"
   },
   {
    "duration": 5,
    "start_time": "2025-04-10T02:09:21.136Z"
   },
   {
    "duration": 3,
    "start_time": "2025-04-10T02:09:27.841Z"
   },
   {
    "duration": 14,
    "start_time": "2025-04-10T02:12:32.607Z"
   },
   {
    "duration": 11,
    "start_time": "2025-04-10T02:12:35.126Z"
   },
   {
    "duration": 13,
    "start_time": "2025-04-10T02:12:37.960Z"
   },
   {
    "duration": 12,
    "start_time": "2025-04-10T02:12:40.798Z"
   },
   {
    "duration": 13,
    "start_time": "2025-04-10T02:12:43.260Z"
   },
   {
    "duration": 11,
    "start_time": "2025-04-10T02:12:46.883Z"
   }
  ],
  "colab": {
   "collapsed_sections": [
    "E0vqbgi9ay0H",
    "VUC88oWjTJw2"
   ],
   "provenance": []
  },
  "kernelspec": {
   "display_name": "Python 3 (ipykernel)",
   "language": "python",
   "name": "python3"
  },
  "language_info": {
   "codemirror_mode": {
    "name": "ipython",
    "version": 3
   },
   "file_extension": ".py",
   "mimetype": "text/x-python",
   "name": "python",
   "nbconvert_exporter": "python",
   "pygments_lexer": "ipython3",
   "version": "3.9.19"
  },
  "toc": {
   "base_numbering": 1,
   "nav_menu": {},
   "number_sections": true,
   "sideBar": true,
   "skip_h1_title": true,
   "title_cell": "Table of Contents",
   "title_sidebar": "Contents",
   "toc_cell": false,
   "toc_position": {},
   "toc_section_display": true,
   "toc_window_display": false
  }
 },
 "nbformat": 4,
 "nbformat_minor": 1
}
